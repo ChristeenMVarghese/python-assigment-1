{
 "cells": [
  {
   "cell_type": "code",
   "execution_count": null,
   "id": "20e3951a-4f67-4992-a6a6-0e5346139678",
   "metadata": {},
   "outputs": [],
   "source": []
  },
  {
   "cell_type": "code",
   "execution_count": 1,
   "id": "c47dc4fa-670f-4091-b813-360c76ce51af",
   "metadata": {},
   "outputs": [
    {
     "name": "stdout",
     "output_type": "stream",
     "text": [
      "christeen M Varghese\n",
      "ST135\n",
      "christeen@gmail.com\n"
     ]
    }
   ],
   "source": [
    "print('christeen M Varghese')\n",
    "print('ST135')\n",
    "print('christeen@gmail.com')\n"
   ]
  },
  {
   "cell_type": "code",
   "execution_count": 3,
   "id": "1242b820-ff55-4902-802e-d357605356c1",
   "metadata": {},
   "outputs": [
    {
     "name": "stdout",
     "output_type": "stream",
     "text": [
      "Christeen M Varghese\n",
      " ST135 \n",
      " christeen@gmail.com\n"
     ]
    }
   ],
   "source": [
    "print ('Christeen M Varghese\\n ST135 \\n christeen@gmail.com')"
   ]
  },
  {
   "cell_type": "code",
   "execution_count": 5,
   "id": "b37fef4b-d056-4d15-9c4d-43c55e6c5bec",
   "metadata": {},
   "outputs": [
    {
     "name": "stdout",
     "output_type": "stream",
     "text": [
      "21\n",
      "7\n",
      "2.0\n",
      "98\n"
     ]
    }
   ],
   "source": [
    "a = 14\n",
    "b = 7\n",
    "print(a+b)\n",
    "print(a-b)\n",
    "print(a/b)\n",
    "print(a*b)"
   ]
  },
  {
   "cell_type": "code",
   "execution_count": 7,
   "id": "394f3b39-f9db-473a-9894-94f3eb407f74",
   "metadata": {},
   "outputs": [
    {
     "name": "stdout",
     "output_type": "stream",
     "text": [
      "1,2,3,4,5\n"
     ]
    }
   ],
   "source": [
    "print(\"\"\"1,2,3,4,5\"\"\")"
   ]
  },
  {
   "cell_type": "code",
   "execution_count": 9,
   "id": "0d7c70c5-e8e7-448a-b2a7-391763dfb7fe",
   "metadata": {},
   "outputs": [
    {
     "ename": "SyntaxError",
     "evalue": "unexpected character after line continuation character (3078053723.py, line 1)",
     "output_type": "error",
     "traceback": [
      "\u001b[1;36m  Cell \u001b[1;32mIn[9], line 1\u001b[1;36m\u001b[0m\n\u001b[1;33m    print(1\\n 2\\n)\u001b[0m\n\u001b[1;37m            ^\u001b[0m\n\u001b[1;31mSyntaxError\u001b[0m\u001b[1;31m:\u001b[0m unexpected character after line continuation character\n"
     ]
    }
   ],
   "source": [
    "print(\"'SDK'stands for "
   ]
  },
  {
   "cell_type": "code",
   "execution_count": 1,
   "id": "30b9ef67-891e-4c6b-898d-9ac1a7566cef",
   "metadata": {},
   "outputs": [
    {
     "name": "stdout",
     "output_type": "stream",
     "text": [
      "\"SDK\" stands for \"Software Development Kit\", whereas \"IDE\" stands for \"Integrated Development Environment\"\n"
     ]
    }
   ],
   "source": [
    "print('\"SDK\" stands for \"Software Development Kit\", whereas \"IDE\" stands for \"Integrated Development Environment\"')"
   ]
  },
  {
   "cell_type": "code",
   "execution_count": 3,
   "id": "fc531eb5-9024-4525-92a2-e7b4054e9176",
   "metadata": {},
   "outputs": [
    {
     "name": "stdout",
     "output_type": "stream",
     "text": [
      "python is an \"awesome\" language.\n"
     ]
    }
   ],
   "source": [
    "print(\"python is an \\\"awesome\\\" language.\")"
   ]
  },
  {
   "cell_type": "code",
   "execution_count": 7,
   "id": "aa843950-3632-4cd1-8488-54831cf163b6",
   "metadata": {},
   "outputs": [
    {
     "name": "stdout",
     "output_type": "stream",
     "text": [
      "python\n",
      "\t2023\n"
     ]
    }
   ],
   "source": [
    "print(\"python\\n\\t2023\") "
   ]
  },
  {
   "cell_type": "code",
   "execution_count": 9,
   "id": "d3f2801b-9ade-4961-a0b3-210a4405e5db",
   "metadata": {},
   "outputs": [
    {
     "name": "stdout",
     "output_type": "stream",
     "text": [
      "I'm from Entri\n"
     ]
    }
   ],
   "source": [
    "print('I\\'m from Entri.\\b') "
   ]
  },
  {
   "cell_type": "code",
   "execution_count": 11,
   "id": "f889b8bc-cd88-4336-9402-56323115a38a",
   "metadata": {},
   "outputs": [
    {
     "name": "stdout",
     "output_type": "stream",
     "text": [
      "5\n"
     ]
    }
   ],
   "source": [
    "print(\"\\65\") "
   ]
  },
  {
   "cell_type": "code",
   "execution_count": 13,
   "id": "4e855a70-bf32-4798-9f6f-7a1caea2a2ad",
   "metadata": {},
   "outputs": [
    {
     "name": "stdout",
     "output_type": "stream",
     "text": [
      "e\n"
     ]
    }
   ],
   "source": [
    "print(\"\\x65\")\n"
   ]
  },
  {
   "cell_type": "code",
   "execution_count": 15,
   "id": "4f231d2d-09eb-490d-9f3f-67e85e4d4798",
   "metadata": {},
   "outputs": [
    {
     "name": "stdout",
     "output_type": "stream",
     "text": [
      "Entri\n",
      "2023\n"
     ]
    }
   ],
   "source": [
    "print(\"Entri\", \"2023\", sep=\"\\n\") "
   ]
  },
  {
   "cell_type": "code",
   "execution_count": 17,
   "id": "cc404282-3ca6-4c3e-9046-8defd1497f7e",
   "metadata": {},
   "outputs": [
    {
     "name": "stdout",
     "output_type": "stream",
     "text": [
      "Entr2023\n"
     ]
    }
   ],
   "source": [
    "print(\"Entri\", \"2023\", sep=\"\\b\")"
   ]
  },
  {
   "cell_type": "code",
   "execution_count": 19,
   "id": "82ac2508-b457-4034-82bb-e80f3c5ba408",
   "metadata": {},
   "outputs": [
    {
     "name": "stdout",
     "output_type": "stream",
     "text": [
      "Entri*20"
     ]
    }
   ],
   "source": [
    " print(\"Entri\", \"2023\", sep=\"*\", end=\"\\b\\b\\b\\b\")"
   ]
  },
  {
   "cell_type": "code",
   "execution_count": 31,
   "id": "35c019dd-c69c-40dc-8dfe-e62b207b7bdc",
   "metadata": {},
   "outputs": [
    {
     "data": {
      "text/plain": [
       "int"
      ]
     },
     "execution_count": 31,
     "metadata": {},
     "output_type": "execute_result"
    }
   ],
   "source": [
    "type(57)\n"
   ]
  },
  {
   "cell_type": "code",
   "execution_count": 57,
   "id": "d000d9a7-c1ed-4355-85e3-4e3039725226",
   "metadata": {},
   "outputs": [
    {
     "name": "stdout",
     "output_type": "stream",
     "text": [
      "a = number of days in a year\n",
      "b = number of hours in a day\n",
      "c = number of minutes in a hour\n",
      "total number of minutes in an year =No.of days in an year * Hours in a day * Minutes\n",
      "total number of minutes in an year 525600\n"
     ]
    }
   ],
   "source": [
    "a = 365\n",
    "b = 24\n",
    "c = 60\n",
    "print(\"a = number of days in a year\")\n",
    "print(\"b = number of hours in a day\")\n",
    "print(\"c = number of minutes in a hour\")\n",
    "print(\"total number of minutes in an year =No.of days in an year * Hours in a day * Minutes\")\n",
    "print(\"total number of minutes in an year\", a*b*c)\n",
    "\n",
    "      \n",
    "      "
   ]
  },
  {
   "cell_type": "code",
   "execution_count": 59,
   "id": "0cefd93b-1359-4dd9-8b51-65f36eee57ae",
   "metadata": {},
   "outputs": [
    {
     "name": "stdin",
     "output_type": "stream",
     "text": [
      " Please enter your name:  Christeen\n"
     ]
    },
    {
     "name": "stdout",
     "output_type": "stream",
     "text": [
      "Hi Christeen, welcome to Python\n"
     ]
    }
   ],
   "source": [
    "user_name = input(' Please enter your name: ')\n",
    "print('Hi',user_name,'\\b, welcome to Python')"
   ]
  },
  {
   "cell_type": "code",
   "execution_count": 63,
   "id": "c59afae4-343d-4364-8ed1-e495b8cb2999",
   "metadata": {},
   "outputs": [
    {
     "name": "stdin",
     "output_type": "stream",
     "text": [
      "Please enter an amount in pounts:  100\n"
     ]
    },
    {
     "name": "stdout",
     "output_type": "stream",
     "text": [
      "the amount in doller 8000.0\n"
     ]
    }
   ],
   "source": [
    "user_input = float(input('Please enter an amount in pounts: '))\n",
    "print('the amount in doller',user_input*80)"
   ]
  }
 ],
 "metadata": {
  "kernelspec": {
   "display_name": "Python 3 (ipykernel)",
   "language": "python",
   "name": "python3"
  },
  "language_info": {
   "codemirror_mode": {
    "name": "ipython",
    "version": 3
   },
   "file_extension": ".py",
   "mimetype": "text/x-python",
   "name": "python",
   "nbconvert_exporter": "python",
   "pygments_lexer": "ipython3",
   "version": "3.12.4"
  }
 },
 "nbformat": 4,
 "nbformat_minor": 5
}
